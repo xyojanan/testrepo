{
 "cells": [
  {
   "cell_type": "markdown",
   "id": "5665d268",
   "metadata": {},
   "source": [
    "# Data Science Tool's and Ecosystem"
   ]
  },
  {
   "cell_type": "markdown",
   "id": "f397d89f",
   "metadata": {},
   "source": [
    "In this notebook, Data Science Tools and Ecosystem are summarized."
   ]
  },
  {
   "cell_type": "markdown",
   "id": "a48eca1a",
   "metadata": {},
   "source": [
    "**Objetives**\n",
    "- List popular languages for Data Science\n",
    "- List commonly used libraries for Data Science\n",
    "- Show in a table Data Science Tools\n"
   ]
  },
  {
   "cell_type": "markdown",
   "id": "6f485a4f",
   "metadata": {},
   "source": [
    "Some of the popular languages that Data Scientists use are:\n",
    "1. Python\n",
    "2. R\n",
    "3. SQL\n",
    "4. Julia\n",
    "5. C++"
   ]
  },
  {
   "cell_type": "markdown",
   "id": "3d55499c",
   "metadata": {},
   "source": [
    "Some of the commonly used libraries used by Data Scientists include: \n",
    "1. TensorFlow\n",
    "2. Keras \n",
    "3. Matplotlib\n",
    "4. PyTorch\n",
    "5. Scikit-learn"
   ]
  },
  {
   "cell_type": "markdown",
   "id": "ac5262e5",
   "metadata": {},
   "source": [
    "|Data Science Tools| \n",
    "|------------------|\n",
    "|Seldon|\n",
    "|Apache PredictionIO|\n",
    "|Kubernetes|"
   ]
  },
  {
   "cell_type": "markdown",
   "id": "80b09eef",
   "metadata": {},
   "source": [
    "### Below are a few examples of evaluating arithmetic expressions in Python"
   ]
  },
  {
   "cell_type": "code",
   "execution_count": 2,
   "id": "29bc1eb4",
   "metadata": {},
   "outputs": [
    {
     "name": "stdout",
     "output_type": "stream",
     "text": [
      "This is a simple arithmetic expression to multiply then add integers\n"
     ]
    },
    {
     "data": {
      "text/plain": [
       "17"
      ]
     },
     "execution_count": 2,
     "metadata": {},
     "output_type": "execute_result"
    }
   ],
   "source": [
    "print(\"This is a simple arithmetic expression to multiply then add integers\")\n",
    "(3*4)+5"
   ]
  },
  {
   "cell_type": "code",
   "execution_count": 6,
   "id": "bd9f25e6",
   "metadata": {},
   "outputs": [
    {
     "name": "stdout",
     "output_type": "stream",
     "text": [
      "This will convert 200 minutes to hours by diving by 60\n",
      "200 minutes are 3.3333333333333335 hours\n"
     ]
    }
   ],
   "source": [
    "print(\"This will convert 200 minutes to hours by diving by 60\")\n",
    "x = 200 #200 minutes\n",
    "hours = x/60\n",
    "print (\"200 minutes are \" + str(hours) +\" hours\")"
   ]
  },
  {
   "cell_type": "markdown",
   "id": "bb407afc",
   "metadata": {},
   "source": [
    "## Author \n",
    "Yojanan Chavarria Huerta"
   ]
  },
  {
   "cell_type": "code",
   "execution_count": null,
   "id": "eaa65599",
   "metadata": {},
   "outputs": [],
   "source": []
  }
 ],
 "metadata": {
  "kernelspec": {
   "display_name": "Python 3 (ipykernel)",
   "language": "python",
   "name": "python3"
  },
  "language_info": {
   "codemirror_mode": {
    "name": "ipython",
    "version": 3
   },
   "file_extension": ".py",
   "mimetype": "text/x-python",
   "name": "python",
   "nbconvert_exporter": "python",
   "pygments_lexer": "ipython3",
   "version": "3.10.9"
  }
 },
 "nbformat": 4,
 "nbformat_minor": 5
}
